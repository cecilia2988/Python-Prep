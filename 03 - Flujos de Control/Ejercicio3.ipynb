{
 "cells": [
  {
   "cell_type": "markdown",
   "metadata": {},
   "source": [
    "1) Crear una variable que contenga un elemento del conjunto de números enteros y luego imprimir por pantalla si es mayor o menor a cero"
   ]
  },
  {
   "cell_type": "code",
   "execution_count": 3,
   "metadata": {},
   "outputs": [
    {
     "name": "stdout",
     "output_type": "stream",
     "text": [
      "Es mayor a cero\n"
     ]
    }
   ],
   "source": [
    "var_1= 5\n",
    "if (var_1 >0):\n",
    "    print(\"Es mayor a cero\")\n",
    "elif (var_1 == 0):\n",
    "    print(\"Es igual a cero\")\n",
    "else:  \n",
    "    print(\"Es menor a cero\")      "
   ]
  },
  {
   "cell_type": "code",
   "execution_count": null,
   "metadata": {},
   "outputs": [],
   "source": [
    "2) Crear dos variables y un condicional que informe si son del mismo tipo de dato"
   ]
  },
  {
   "cell_type": "code",
   "execution_count": 15,
   "metadata": {},
   "outputs": [
    {
     "name": "stdout",
     "output_type": "stream",
     "text": [
      "Son distintos  7  y  9\n"
     ]
    }
   ],
   "source": [
    "var_2 = 7\n",
    "var_3 = 9\n",
    "if (var_2 == var_3):\n",
    "    print(\"Son iguales\")\n",
    "else:\n",
    "    print(\"Son distintos \" , var_2 , \" y \", var_3 )"
   ]
  },
  {
   "cell_type": "markdown",
   "metadata": {},
   "source": [
    "3) Para los valores enteros del 1 al 20, imprimir por pantalla si es par o impar"
   ]
  },
  {
   "cell_type": "code",
   "execution_count": 18,
   "metadata": {},
   "outputs": [
    {
     "name": "stdout",
     "output_type": "stream",
     "text": [
      "Es impar  1\n",
      "Es par  2\n",
      "Es impar  3\n",
      "Es par  4\n",
      "Es impar  5\n",
      "Es par  6\n",
      "Es impar  7\n",
      "Es par  8\n",
      "Es impar  9\n",
      "Es par  10\n",
      "Es impar  11\n",
      "Es par  12\n",
      "Es impar  13\n",
      "Es par  14\n",
      "Es impar  15\n",
      "Es par  16\n",
      "Es impar  17\n",
      "Es par  18\n",
      "Es impar  19\n",
      "Es par  20\n"
     ]
    }
   ],
   "source": [
    "for numero in range (1,21):\n",
    "    if(numero%2==0):\n",
    "        print(\"Es par \", numero)\n",
    "    else:\n",
    "        print(\"Es impar \", numero)\n"
   ]
  },
  {
   "cell_type": "markdown",
   "metadata": {},
   "source": [
    "4) En un ciclo for mostrar para los valores entre 0 y 5 el resultado de elevarlo a la potencia igual a 3"
   ]
  },
  {
   "cell_type": "code",
   "execution_count": 19,
   "metadata": {},
   "outputs": [
    {
     "name": "stdout",
     "output_type": "stream",
     "text": [
      "0\n",
      "1\n",
      "8\n",
      "27\n",
      "64\n",
      "125\n"
     ]
    }
   ],
   "source": [
    "for num in range (0,6):\n",
    "    print(num**3)\n",
    "    "
   ]
  },
  {
   "cell_type": "markdown",
   "metadata": {},
   "source": [
    "5) Crear una variable que contenga un número entero y realizar un ciclo for la misma cantidad de ciclos"
   ]
  },
  {
   "cell_type": "code",
   "execution_count": 21,
   "metadata": {},
   "outputs": [
    {
     "name": "stdout",
     "output_type": "stream",
     "text": [
      "Vuelta  1\n",
      "Vuelta  2\n",
      "Vuelta  3\n",
      "Vuelta  4\n",
      "Vuelta  5\n",
      "Vuelta  6\n",
      "Vuelta  7\n",
      "Vuelta  8\n",
      "Vuelta  9\n",
      "Vuelta  10\n"
     ]
    }
   ],
   "source": [
    "var_6 =10\n",
    "for n in range(1,var_6+1):\n",
    "    print(\"Vuelta \", str(n))\n"
   ]
  },
  {
   "cell_type": "markdown",
   "metadata": {},
   "source": [
    "6) Utilizar un ciclo while para realizar el factoreo de un número guardado en una variable, sólo si la variable contiene un número entero mayor a 0"
   ]
  },
  {
   "cell_type": "code",
   "execution_count": 27,
   "metadata": {},
   "outputs": [
    {
     "name": "stdout",
     "output_type": "stream",
     "text": [
      "120\n"
     ]
    }
   ],
   "source": [
    "var_7 = 5\n",
    "if(var_7>0):\n",
    "    factorial= var_7\n",
    "    while (var_7>1):\n",
    "        var_7-=1\n",
    "        factorial=factorial *var_7\n",
    "\n",
    "else:\n",
    "    print(\"La variable es menor o igual a cero\")\n",
    "\n",
    "print(factorial)\n"
   ]
  },
  {
   "cell_type": "markdown",
   "metadata": {},
   "source": [
    "7) Crear un ciclo for dentro de un ciclo while"
   ]
  },
  {
   "cell_type": "code",
   "execution_count": 4,
   "metadata": {},
   "outputs": [
    {
     "name": "stdout",
     "output_type": "stream",
     "text": [
      "Ciclo while nro 2\n",
      "Ciclo for nro 1\n",
      "Ciclo while nro 3\n",
      "Ciclo for nro 1\n",
      "Ciclo while nro 3\n",
      "Ciclo for nro 2\n",
      "Ciclo while nro 4\n",
      "Ciclo for nro 1\n",
      "Ciclo while nro 4\n",
      "Ciclo for nro 2\n",
      "Ciclo while nro 4\n",
      "Ciclo for nro 3\n",
      "Ciclo while nro 5\n",
      "Ciclo for nro 1\n",
      "Ciclo while nro 5\n",
      "Ciclo for nro 2\n",
      "Ciclo while nro 5\n",
      "Ciclo for nro 3\n",
      "Ciclo while nro 5\n",
      "Ciclo for nro 4\n"
     ]
    }
   ],
   "source": [
    "# caracter = \" \"\n",
    "# palabra = \"Cecilia\"\n",
    "# while (caracter != \"a\"):\n",
    "#     for caracter in (palabra):\n",
    "#         print(caracter)\n",
    "\n",
    "n = 0\n",
    "while(n < 5):\n",
    "    n += 1\n",
    "    for i in range(1,n):\n",
    "        print('Ciclo while nro ' + str(n))\n",
    "        print('Ciclo for nro ' + str(i))\n"
   ]
  },
  {
   "cell_type": "markdown",
   "metadata": {},
   "source": [
    "8) Crear un ciclo while dentro de un ciclo for"
   ]
  },
  {
   "cell_type": "code",
   "execution_count": null,
   "metadata": {},
   "outputs": [],
   "source": []
  },
  {
   "cell_type": "markdown",
   "metadata": {},
   "source": [
    "9) Imprimir los números primos existentes entre 0 y 30\n"
   ]
  },
  {
   "cell_type": "code",
   "execution_count": 3,
   "metadata": {},
   "outputs": [
    {
     "name": "stdout",
     "output_type": "stream",
     "text": [
      "11  es primo \n"
     ]
    }
   ],
   "source": [
    "numero = 11\n",
    "primo=True\n",
    "for n in range(2,numero):\n",
    "    if(numero%n==0):\n",
    "        primo=False\n",
    "        break\n",
    "\n",
    "if(primo==True):\n",
    "    print(str(numero), \" es primo \")\n",
    "else:\n",
    "    print(str(numero), \" no es primo\")    \n"
   ]
  },
  {
   "cell_type": "markdown",
   "metadata": {},
   "source": [
    "10) ¿Se puede mejorar el proceso del punto 9? Utilizar las sentencias break y/ó continue para tal fin"
   ]
  },
  {
   "cell_type": "code",
   "execution_count": 17,
   "metadata": {},
   "outputs": [
    {
     "name": "stdout",
     "output_type": "stream",
     "text": [
      "El numero  0  es primo\n",
      "El numero  1  es primo\n",
      "El numero  2  es primo\n",
      "El numero  3  es primo\n",
      "El numero  5  es primo\n",
      "El numero  7  es primo\n",
      "El numero  11  es primo\n",
      "El numero  13  es primo\n",
      "El numero  17  es primo\n",
      "El numero  19  es primo\n",
      "El numero  23  es primo\n",
      "El numero  29  es primo\n"
     ]
    }
   ],
   "source": [
    "fin=30\n",
    "num=0\n",
    "primo=True\n",
    "while(num<fin):\n",
    "    for div in range(2,num):\n",
    "        if(num % div == 0):\n",
    "            primo=False\n",
    "            break\n",
    "    if(primo==True):\n",
    "        print(\"El numero \", num , \" es primo\") \n",
    "    else:\n",
    "        primo=True\n",
    "    num+=1         \n"
   ]
  },
  {
   "cell_type": "markdown",
   "metadata": {},
   "source": [
    "11) En los puntos 9 y 10, se diseño un código que encuentra números primos y además se lo optimizó. ¿Es posible saber en qué medida se optimizó?"
   ]
  },
  {
   "cell_type": "code",
   "execution_count": 20,
   "metadata": {},
   "outputs": [
    {
     "name": "stdout",
     "output_type": "stream",
     "text": [
      "El numero  0  es primo\n",
      "El numero  1  es primo\n",
      "El numero  2  es primo\n",
      "El numero  3  es primo\n",
      "El numero  5  es primo\n",
      "El numero  7  es primo\n",
      "El numero  11  es primo\n",
      "El numero  13  es primo\n",
      "El numero  17  es primo\n",
      "El numero  19  es primo\n",
      "El numero  23  es primo\n",
      "El numero  29  es primo\n",
      "El numero  0  es primo\n",
      "El numero  1  es primo\n",
      "El numero  2  es primo\n",
      "El numero  3  es primo\n",
      "El numero  5  es primo\n",
      "El numero  7  es primo\n",
      "El numero  11  es primo\n",
      "El numero  13  es primo\n",
      "El numero  17  es primo\n",
      "El numero  19  es primo\n",
      "El numero  23  es primo\n",
      "El numero  29  es primo\n",
      "Cantidad de vueltas  134\n",
      "Cantidad de vueltas sin break  378\n"
     ]
    }
   ],
   "source": [
    "fin=30\n",
    "num=0\n",
    "primo=True\n",
    "contador=0\n",
    "contadorsinbrak=0\n",
    "while(num<fin):\n",
    "    for div in range(2,num):\n",
    "        contador+=1\n",
    "        if(num % div == 0):\n",
    "            primo=False\n",
    "            break\n",
    "    if(primo==True):\n",
    "        print(\"El numero \", num , \" es primo\") \n",
    "    else:\n",
    "        primo=True\n",
    "    num+=1\n",
    "\n",
    "#sin break    \n",
    "num=0\n",
    "while(num<fin):\n",
    "    for div in range(2,num):\n",
    "        contadorsinbrak+=1\n",
    "        if(num % div == 0):\n",
    "            primo=False\n",
    "        \n",
    "    if(primo==True):\n",
    "        print(\"El numero \", num , \" es primo\") \n",
    "    else:\n",
    "        primo=True\n",
    "    num+=1   \n",
    "print(\"Cantidad de vueltas \", contador)\n",
    "print(\"Cantidad de vueltas sin break \", contadorsinbrak)    "
   ]
  },
  {
   "cell_type": "markdown",
   "metadata": {},
   "source": [
    "12) Si la cantidad de números que se evalúa es mayor a treinta, esa optimización crece?"
   ]
  },
  {
   "cell_type": "code",
   "execution_count": 21,
   "metadata": {},
   "outputs": [
    {
     "name": "stdout",
     "output_type": "stream",
     "text": [
      "El numero  0  es primo\n",
      "El numero  1  es primo\n",
      "El numero  2  es primo\n",
      "El numero  3  es primo\n",
      "El numero  5  es primo\n",
      "El numero  7  es primo\n",
      "El numero  11  es primo\n",
      "El numero  13  es primo\n",
      "El numero  17  es primo\n",
      "El numero  19  es primo\n",
      "El numero  23  es primo\n",
      "El numero  29  es primo\n",
      "El numero  31  es primo\n",
      "El numero  37  es primo\n",
      "El numero  41  es primo\n",
      "El numero  43  es primo\n",
      "El numero  47  es primo\n",
      "El numero  53  es primo\n",
      "El numero  59  es primo\n",
      "El numero  61  es primo\n",
      "El numero  67  es primo\n",
      "El numero  71  es primo\n",
      "El numero  73  es primo\n",
      "El numero  79  es primo\n",
      "El numero  83  es primo\n",
      "El numero  89  es primo\n",
      "El numero  97  es primo\n",
      "El numero  0  es primo\n",
      "El numero  1  es primo\n",
      "El numero  2  es primo\n",
      "El numero  3  es primo\n",
      "El numero  5  es primo\n",
      "El numero  7  es primo\n",
      "El numero  11  es primo\n",
      "El numero  13  es primo\n",
      "El numero  17  es primo\n",
      "El numero  19  es primo\n",
      "El numero  23  es primo\n",
      "El numero  29  es primo\n",
      "El numero  31  es primo\n",
      "El numero  37  es primo\n",
      "El numero  41  es primo\n",
      "El numero  43  es primo\n",
      "El numero  47  es primo\n",
      "El numero  53  es primo\n",
      "El numero  59  es primo\n",
      "El numero  61  es primo\n",
      "El numero  67  es primo\n",
      "El numero  71  es primo\n",
      "El numero  73  es primo\n",
      "El numero  79  es primo\n",
      "El numero  83  es primo\n",
      "El numero  89  es primo\n",
      "El numero  97  es primo\n",
      "Cantidad de vueltas  1132\n",
      "Cantidad de vueltas sin break  4753\n"
     ]
    }
   ],
   "source": [
    "fin=100\n",
    "num=0\n",
    "primo=True\n",
    "contador=0\n",
    "contadorsinbrak=0\n",
    "while(num<fin):\n",
    "    for div in range(2,num):\n",
    "        contador+=1\n",
    "        if(num % div == 0):\n",
    "            primo=False\n",
    "            break\n",
    "    if(primo==True):\n",
    "        print(\"El numero \", num , \" es primo\") \n",
    "    else:\n",
    "        primo=True\n",
    "    num+=1\n",
    "\n",
    "#sin break    \n",
    "num=0\n",
    "while(num<fin):\n",
    "    for div in range(2,num):\n",
    "        contadorsinbrak+=1\n",
    "        if(num % div == 0):\n",
    "            primo=False\n",
    "        \n",
    "    if(primo==True):\n",
    "        print(\"El numero \", num , \" es primo\") \n",
    "    else:\n",
    "        primo=True\n",
    "    num+=1   \n",
    "print(\"Cantidad de vueltas \", contador)\n",
    "print(\"Cantidad de vueltas sin break \", contadorsinbrak) "
   ]
  },
  {
   "cell_type": "markdown",
   "metadata": {},
   "source": [
    "13) Aplicando continue, armar un ciclo while que solo imprima los valores divisibles por 12, dentro del rango de números de 100 a 300"
   ]
  },
  {
   "cell_type": "code",
   "execution_count": 4,
   "metadata": {},
   "outputs": [
    {
     "name": "stdout",
     "output_type": "stream",
     "text": [
      "108\n",
      "120\n",
      "132\n",
      "144\n",
      "156\n",
      "168\n",
      "180\n",
      "192\n",
      "204\n",
      "216\n",
      "228\n",
      "240\n",
      "252\n",
      "264\n",
      "276\n",
      "288\n"
     ]
    }
   ],
   "source": [
    "n=100\n",
    "while(n<300):\n",
    "    if(n%12==0):\n",
    "        print(n)\n",
    "    n+=1    "
   ]
  },
  {
   "cell_type": "markdown",
   "metadata": {},
   "source": [
    "14) Utilizar la función **input()** que permite hacer ingresos por teclado, para encontrar números primos y dar la opción al usario de buscar el siguiente"
   ]
  },
  {
   "cell_type": "code",
   "execution_count": 5,
   "metadata": {},
   "outputs": [],
   "source": [
    "seguir=True\n",
    "while(seguir==True):\n",
    "    num= int(input(\"Ingrese un numero : \" ))\n",
    "    primo=True\n",
    "    for n in range(2,num):\n",
    "        if(num%n==0):\n",
    "            primo=False\n",
    "            break\n",
    "\n",
    "    if(primo==True):\n",
    "        print(str(num), \" es primo \")\n",
    "    else:\n",
    "        print(str(num), \" no es primo\") \n",
    "    pregunta= int(input(\" Desea continuar: 1-SI, 2-NO : \"))\n",
    "    while(pregunta!= 1 and pregunta!=2):\n",
    "        pregunta= int(input(\" Desea continuar: 1-SI, 2-NO : \"))\n",
    "    if(pregunta==2):\n",
    "        seguir=False  "
   ]
  },
  {
   "cell_type": "markdown",
   "metadata": {},
   "source": [
    "15) Crear un ciclo while que encuentre dentro del rango de 100 a 300 el primer número divisible por 3 y además múltiplo de 6"
   ]
  },
  {
   "cell_type": "code",
   "execution_count": 3,
   "metadata": {},
   "outputs": [
    {
     "name": "stdout",
     "output_type": "stream",
     "text": [
      "El numero es  102\n"
     ]
    }
   ],
   "source": [
    "num=100\n",
    "while(num<=300):\n",
    "    if(num%6==0):\n",
    "        print(\"El numero es \", str(num))\n",
    "        break\n",
    "    num+=1 \n",
    "       "
   ]
  },
  {
   "cell_type": "markdown",
   "metadata": {},
   "source": [
    "16"
   ]
  },
  {
   "cell_type": "code",
   "execution_count": null,
   "metadata": {},
   "outputs": [],
   "source": []
  },
  {
   "cell_type": "markdown",
   "metadata": {},
   "source": [
    "17"
   ]
  },
  {
   "cell_type": "code",
   "execution_count": null,
   "metadata": {},
   "outputs": [],
   "source": []
  },
  {
   "cell_type": "markdown",
   "metadata": {},
   "source": [
    "18"
   ]
  },
  {
   "cell_type": "code",
   "execution_count": null,
   "metadata": {},
   "outputs": [],
   "source": []
  },
  {
   "cell_type": "markdown",
   "metadata": {},
   "source": [
    "19"
   ]
  },
  {
   "cell_type": "code",
   "execution_count": null,
   "metadata": {},
   "outputs": [],
   "source": []
  },
  {
   "cell_type": "markdown",
   "metadata": {},
   "source": [
    "20"
   ]
  },
  {
   "cell_type": "code",
   "execution_count": null,
   "metadata": {},
   "outputs": [],
   "source": []
  },
  {
   "cell_type": "markdown",
   "metadata": {},
   "source": [
    "21"
   ]
  },
  {
   "cell_type": "code",
   "execution_count": null,
   "metadata": {},
   "outputs": [],
   "source": []
  },
  {
   "cell_type": "markdown",
   "metadata": {},
   "source": [
    "22"
   ]
  },
  {
   "cell_type": "code",
   "execution_count": null,
   "metadata": {},
   "outputs": [],
   "source": []
  },
  {
   "cell_type": "markdown",
   "metadata": {},
   "source": [
    "23"
   ]
  },
  {
   "cell_type": "code",
   "execution_count": null,
   "metadata": {},
   "outputs": [],
   "source": []
  },
  {
   "cell_type": "markdown",
   "metadata": {},
   "source": [
    "24"
   ]
  },
  {
   "cell_type": "code",
   "execution_count": null,
   "metadata": {},
   "outputs": [],
   "source": []
  },
  {
   "cell_type": "markdown",
   "metadata": {},
   "source": [
    "25"
   ]
  },
  {
   "cell_type": "code",
   "execution_count": null,
   "metadata": {},
   "outputs": [],
   "source": []
  },
  {
   "cell_type": "markdown",
   "metadata": {},
   "source": [
    "26"
   ]
  },
  {
   "cell_type": "code",
   "execution_count": null,
   "metadata": {},
   "outputs": [],
   "source": []
  },
  {
   "cell_type": "markdown",
   "metadata": {},
   "source": [
    "27"
   ]
  },
  {
   "cell_type": "code",
   "execution_count": null,
   "metadata": {},
   "outputs": [],
   "source": []
  },
  {
   "cell_type": "markdown",
   "metadata": {},
   "source": [
    "28"
   ]
  },
  {
   "cell_type": "code",
   "execution_count": null,
   "metadata": {},
   "outputs": [],
   "source": []
  },
  {
   "cell_type": "markdown",
   "metadata": {},
   "source": [
    "29"
   ]
  },
  {
   "cell_type": "code",
   "execution_count": null,
   "metadata": {},
   "outputs": [],
   "source": []
  },
  {
   "cell_type": "markdown",
   "metadata": {},
   "source": [
    "30"
   ]
  },
  {
   "cell_type": "code",
   "execution_count": null,
   "metadata": {},
   "outputs": [],
   "source": []
  }
 ],
 "metadata": {
  "interpreter": {
   "hash": "787a8d9df65b2359121051dbee0c0decdf953f02f94e51045b75ef7d5037756e"
  },
  "kernelspec": {
   "display_name": "Python 3.10.1 64-bit",
   "language": "python",
   "name": "python3"
  },
  "language_info": {
   "codemirror_mode": {
    "name": "ipython",
    "version": 3
   },
   "file_extension": ".py",
   "mimetype": "text/x-python",
   "name": "python",
   "nbconvert_exporter": "python",
   "pygments_lexer": "ipython3",
   "version": "3.10.1"
  },
  "orig_nbformat": 4
 },
 "nbformat": 4,
 "nbformat_minor": 2
}
